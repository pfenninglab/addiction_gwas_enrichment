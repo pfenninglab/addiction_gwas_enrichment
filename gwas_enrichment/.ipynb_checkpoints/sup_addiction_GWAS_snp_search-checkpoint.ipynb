{
 "cells": [
  {
   "cell_type": "markdown",
   "metadata": {},
   "source": [
    "# Addiction GWAS snps\n",
    "## BaDoi Phan, May 29, 2020\n",
    "\n",
    "Identify the lead, independent lead SNP, and snps in LD with them"
   ]
  },
  {
   "cell_type": "code",
   "execution_count": 21,
   "metadata": {},
   "outputs": [
    {
     "name": "stderr",
     "output_type": "stream",
     "text": [
      "Loading required package: GenomicRanges\n",
      "\n",
      "Loading required package: stats4\n",
      "\n",
      "Loading required package: BiocGenerics\n",
      "\n",
      "Loading required package: parallel\n",
      "\n",
      "\n",
      "Attaching package: ‘BiocGenerics’\n",
      "\n",
      "\n",
      "The following objects are masked from ‘package:parallel’:\n",
      "\n",
      "    clusterApply, clusterApplyLB, clusterCall, clusterEvalQ,\n",
      "    clusterExport, clusterMap, parApply, parCapply, parLapply,\n",
      "    parLapplyLB, parRapply, parSapply, parSapplyLB\n",
      "\n",
      "\n",
      "The following objects are masked from ‘package:dplyr’:\n",
      "\n",
      "    combine, intersect, setdiff, union\n",
      "\n",
      "\n",
      "The following objects are masked from ‘package:stats’:\n",
      "\n",
      "    IQR, mad, sd, var, xtabs\n",
      "\n",
      "\n",
      "The following objects are masked from ‘package:base’:\n",
      "\n",
      "    anyDuplicated, append, as.data.frame, basename, cbind, colnames,\n",
      "    dirname, do.call, duplicated, eval, evalq, Filter, Find, get, grep,\n",
      "    grepl, intersect, is.unsorted, lapply, Map, mapply, match, mget,\n",
      "    order, paste, pmax, pmax.int, pmin, pmin.int, Position, rank,\n",
      "    rbind, Reduce, rownames, sapply, setdiff, sort, table, tapply,\n",
      "    union, unique, unsplit, which, which.max, which.min\n",
      "\n",
      "\n",
      "Loading required package: S4Vectors\n",
      "\n",
      "\n",
      "Attaching package: ‘S4Vectors’\n",
      "\n",
      "\n",
      "The following objects are masked from ‘package:dplyr’:\n",
      "\n",
      "    first, rename\n",
      "\n",
      "\n",
      "The following object is masked from ‘package:tidyr’:\n",
      "\n",
      "    expand\n",
      "\n",
      "\n",
      "The following object is masked from ‘package:base’:\n",
      "\n",
      "    expand.grid\n",
      "\n",
      "\n",
      "Loading required package: IRanges\n",
      "\n",
      "\n",
      "Attaching package: ‘IRanges’\n",
      "\n",
      "\n",
      "The following objects are masked from ‘package:dplyr’:\n",
      "\n",
      "    collapse, desc, slice\n",
      "\n",
      "\n",
      "The following object is masked from ‘package:purrr’:\n",
      "\n",
      "    reduce\n",
      "\n",
      "\n",
      "Loading required package: GenomeInfoDb\n",
      "\n",
      "Loading required package: Biobase\n",
      "\n",
      "Welcome to Bioconductor\n",
      "\n",
      "    Vignettes contain introductory material; view with\n",
      "    'browseVignettes()'. To cite Bioconductor, see\n",
      "    'citation(\"Biobase\")', and for packages 'citation(\"pkgname\")'.\n",
      "\n",
      "\n",
      "Loading required package: DelayedArray\n",
      "\n",
      "Loading required package: matrixStats\n",
      "\n",
      "\n",
      "Attaching package: ‘matrixStats’\n",
      "\n",
      "\n",
      "The following objects are masked from ‘package:Biobase’:\n",
      "\n",
      "    anyMissing, rowMedians\n",
      "\n",
      "\n",
      "The following object is masked from ‘package:dplyr’:\n",
      "\n",
      "    count\n",
      "\n",
      "\n",
      "Loading required package: BiocParallel\n",
      "\n",
      "\n",
      "Attaching package: ‘DelayedArray’\n",
      "\n",
      "\n",
      "The following objects are masked from ‘package:matrixStats’:\n",
      "\n",
      "    colMaxs, colMins, colRanges, rowMaxs, rowMins, rowRanges\n",
      "\n",
      "\n",
      "The following object is masked from ‘package:purrr’:\n",
      "\n",
      "    simplify\n",
      "\n",
      "\n",
      "The following objects are masked from ‘package:base’:\n",
      "\n",
      "    aperm, apply, rowsum\n",
      "\n",
      "\n"
     ]
    }
   ],
   "source": [
    "library(tidyverse)\n",
    "library(SummarizedExperiment)\n",
    "options(stringsAsFactors = F)\n",
    "ss <- function(x, pattern, slot = 1, ...) { sapply(strsplit(x = x, split = pattern, ...), '[', slot) }"
   ]
  },
  {
   "cell_type": "code",
   "execution_count": 11,
   "metadata": {},
   "outputs": [],
   "source": [
    "# read in GWAS snps annotated with FUMA\n",
    "load('rdas/addiction_snp_withCausalDB_enhancer_overlap_rse.rda')\n",
    "load(file = 'rdas/fuma_addiction_snps_withCausalDB.rda')"
   ]
  },
  {
   "cell_type": "code",
   "execution_count": 12,
   "metadata": {},
   "outputs": [
    {
     "data": {
      "text/html": [
       "<table>\n",
       "<caption>A data.frame: 6 × 57</caption>\n",
       "<thead>\n",
       "\t<tr><th></th><th scope=col>uniqID</th><th scope=col>rsID</th><th scope=col>chr</th><th scope=col>pos</th><th scope=col>non_effect_allele</th><th scope=col>effect_allele</th><th scope=col>MAF</th><th scope=col>gwasP</th><th scope=col>r2</th><th scope=col>IndSigSNP</th><th scope=col>⋯</th><th scope=col>Consortium.author</th><th scope=col>PMID</th><th scope=col>Year</th><th scope=col>N_Causal_blocks</th><th scope=col>N_Variants</th><th scope=col>N_Pval..5e.8</th><th scope=col>Documentation</th><th scope=col>Notes</th><th scope=col>avgPP</th><th scope=col>isCausal</th></tr>\n",
       "\t<tr><th></th><th scope=col>&lt;chr&gt;</th><th scope=col>&lt;chr&gt;</th><th scope=col>&lt;int&gt;</th><th scope=col>&lt;int&gt;</th><th scope=col>&lt;chr&gt;</th><th scope=col>&lt;chr&gt;</th><th scope=col>&lt;dbl&gt;</th><th scope=col>&lt;dbl&gt;</th><th scope=col>&lt;dbl&gt;</th><th scope=col>&lt;chr&gt;</th><th scope=col>⋯</th><th scope=col>&lt;chr&gt;</th><th scope=col>&lt;chr&gt;</th><th scope=col>&lt;int&gt;</th><th scope=col>&lt;int&gt;</th><th scope=col>&lt;int&gt;</th><th scope=col>&lt;int&gt;</th><th scope=col>&lt;chr&gt;</th><th scope=col>&lt;chr&gt;</th><th scope=col>&lt;dbl&gt;</th><th scope=col>&lt;lgl&gt;</th></tr>\n",
       "</thead>\n",
       "<tbody>\n",
       "\t<tr><th scope=row>AgeOfInitiation.4</th><td>2:62927475:C:T</td><td>rs360808  </td><td>2</td><td>62700340</td><td>C</td><td>T</td><td>0.3360</td><td>7.59e-07</td><td>0.921475</td><td>rs4671448</td><td>⋯</td><td>NA</td><td>NA</td><td>NA</td><td>NA</td><td>NA</td><td>NA</td><td>NA</td><td>NA</td><td>NA</td><td>FALSE</td></tr>\n",
       "\t<tr><th scope=row>AgeOfInitiation.7</th><td>2:62981798:C:T</td><td>rs4671448 </td><td>2</td><td>62754663</td><td>T</td><td>C</td><td>0.3539</td><td>4.06e-08</td><td>1.000000</td><td>rs4671448</td><td>⋯</td><td>NA</td><td>NA</td><td>NA</td><td>NA</td><td>NA</td><td>NA</td><td>NA</td><td>NA</td><td>NA</td><td>FALSE</td></tr>\n",
       "\t<tr><th scope=row>AgeOfInitiation.11</th><td>2:63022050:C:T</td><td>rs7591708 </td><td>2</td><td>62794915</td><td>C</td><td>T</td><td>0.3260</td><td>2.72e-07</td><td>0.880603</td><td>rs4671448</td><td>⋯</td><td>NA</td><td>NA</td><td>NA</td><td>NA</td><td>NA</td><td>NA</td><td>NA</td><td>NA</td><td>NA</td><td>FALSE</td></tr>\n",
       "\t<tr><th scope=row>AgeOfInitiation.13</th><td>2:63059927:A:G</td><td>rs12713469</td><td>2</td><td>62832792</td><td>A</td><td>G</td><td>0.3519</td><td>2.07e-07</td><td>0.911977</td><td>rs4671448</td><td>⋯</td><td>NA</td><td>NA</td><td>NA</td><td>NA</td><td>NA</td><td>NA</td><td>NA</td><td>NA</td><td>NA</td><td>FALSE</td></tr>\n",
       "\t<tr><th scope=row>AgeOfInitiation.14</th><td>2:63087778:C:T</td><td>rs13410889</td><td>2</td><td>62860643</td><td>C</td><td>T</td><td>0.3459</td><td>1.58e-07</td><td>0.894309</td><td>rs4671448</td><td>⋯</td><td>NA</td><td>NA</td><td>NA</td><td>NA</td><td>NA</td><td>NA</td><td>NA</td><td>NA</td><td>NA</td><td>FALSE</td></tr>\n",
       "\t<tr><th scope=row>AgeOfInitiation.18</th><td>2:63149265:A:G</td><td>rs2710641 </td><td>2</td><td>62922130</td><td>A</td><td>G</td><td>0.3270</td><td>5.51e-07</td><td>0.833091</td><td>rs4671448</td><td>⋯</td><td>NA</td><td>NA</td><td>NA</td><td>NA</td><td>NA</td><td>NA</td><td>NA</td><td>NA</td><td>NA</td><td>FALSE</td></tr>\n",
       "</tbody>\n",
       "</table>\n"
      ],
      "text/latex": [
       "A data.frame: 6 × 57\n",
       "\\begin{tabular}{r|lllllllllllllllllllll}\n",
       "  & uniqID & rsID & chr & pos & non\\_effect\\_allele & effect\\_allele & MAF & gwasP & r2 & IndSigSNP & ⋯ & Consortium.author & PMID & Year & N\\_Causal\\_blocks & N\\_Variants & N\\_Pval..5e.8 & Documentation & Notes & avgPP & isCausal\\\\\n",
       "  & <chr> & <chr> & <int> & <int> & <chr> & <chr> & <dbl> & <dbl> & <dbl> & <chr> & ⋯ & <chr> & <chr> & <int> & <int> & <int> & <int> & <chr> & <chr> & <dbl> & <lgl>\\\\\n",
       "\\hline\n",
       "\tAgeOfInitiation.4 & 2:62927475:C:T & rs360808   & 2 & 62700340 & C & T & 0.3360 & 7.59e-07 & 0.921475 & rs4671448 & ⋯ & NA & NA & NA & NA & NA & NA & NA & NA & NA & FALSE\\\\\n",
       "\tAgeOfInitiation.7 & 2:62981798:C:T & rs4671448  & 2 & 62754663 & T & C & 0.3539 & 4.06e-08 & 1.000000 & rs4671448 & ⋯ & NA & NA & NA & NA & NA & NA & NA & NA & NA & FALSE\\\\\n",
       "\tAgeOfInitiation.11 & 2:63022050:C:T & rs7591708  & 2 & 62794915 & C & T & 0.3260 & 2.72e-07 & 0.880603 & rs4671448 & ⋯ & NA & NA & NA & NA & NA & NA & NA & NA & NA & FALSE\\\\\n",
       "\tAgeOfInitiation.13 & 2:63059927:A:G & rs12713469 & 2 & 62832792 & A & G & 0.3519 & 2.07e-07 & 0.911977 & rs4671448 & ⋯ & NA & NA & NA & NA & NA & NA & NA & NA & NA & FALSE\\\\\n",
       "\tAgeOfInitiation.14 & 2:63087778:C:T & rs13410889 & 2 & 62860643 & C & T & 0.3459 & 1.58e-07 & 0.894309 & rs4671448 & ⋯ & NA & NA & NA & NA & NA & NA & NA & NA & NA & FALSE\\\\\n",
       "\tAgeOfInitiation.18 & 2:63149265:A:G & rs2710641  & 2 & 62922130 & A & G & 0.3270 & 5.51e-07 & 0.833091 & rs4671448 & ⋯ & NA & NA & NA & NA & NA & NA & NA & NA & NA & FALSE\\\\\n",
       "\\end{tabular}\n"
      ],
      "text/markdown": [
       "\n",
       "A data.frame: 6 × 57\n",
       "\n",
       "| <!--/--> | uniqID &lt;chr&gt; | rsID &lt;chr&gt; | chr &lt;int&gt; | pos &lt;int&gt; | non_effect_allele &lt;chr&gt; | effect_allele &lt;chr&gt; | MAF &lt;dbl&gt; | gwasP &lt;dbl&gt; | r2 &lt;dbl&gt; | IndSigSNP &lt;chr&gt; | ⋯ ⋯ | Consortium.author &lt;chr&gt; | PMID &lt;chr&gt; | Year &lt;int&gt; | N_Causal_blocks &lt;int&gt; | N_Variants &lt;int&gt; | N_Pval..5e.8 &lt;int&gt; | Documentation &lt;chr&gt; | Notes &lt;chr&gt; | avgPP &lt;dbl&gt; | isCausal &lt;lgl&gt; |\n",
       "|---|---|---|---|---|---|---|---|---|---|---|---|---|---|---|---|---|---|---|---|---|---|\n",
       "| AgeOfInitiation.4 | 2:62927475:C:T | rs360808   | 2 | 62700340 | C | T | 0.3360 | 7.59e-07 | 0.921475 | rs4671448 | ⋯ | NA | NA | NA | NA | NA | NA | NA | NA | NA | FALSE |\n",
       "| AgeOfInitiation.7 | 2:62981798:C:T | rs4671448  | 2 | 62754663 | T | C | 0.3539 | 4.06e-08 | 1.000000 | rs4671448 | ⋯ | NA | NA | NA | NA | NA | NA | NA | NA | NA | FALSE |\n",
       "| AgeOfInitiation.11 | 2:63022050:C:T | rs7591708  | 2 | 62794915 | C | T | 0.3260 | 2.72e-07 | 0.880603 | rs4671448 | ⋯ | NA | NA | NA | NA | NA | NA | NA | NA | NA | FALSE |\n",
       "| AgeOfInitiation.13 | 2:63059927:A:G | rs12713469 | 2 | 62832792 | A | G | 0.3519 | 2.07e-07 | 0.911977 | rs4671448 | ⋯ | NA | NA | NA | NA | NA | NA | NA | NA | NA | FALSE |\n",
       "| AgeOfInitiation.14 | 2:63087778:C:T | rs13410889 | 2 | 62860643 | C | T | 0.3459 | 1.58e-07 | 0.894309 | rs4671448 | ⋯ | NA | NA | NA | NA | NA | NA | NA | NA | NA | FALSE |\n",
       "| AgeOfInitiation.18 | 2:63149265:A:G | rs2710641  | 2 | 62922130 | A | G | 0.3270 | 5.51e-07 | 0.833091 | rs4671448 | ⋯ | NA | NA | NA | NA | NA | NA | NA | NA | NA | FALSE |\n",
       "\n"
      ],
      "text/plain": [
       "                   uniqID         rsID       chr pos      non_effect_allele\n",
       "AgeOfInitiation.4  2:62927475:C:T rs360808   2   62700340 C                \n",
       "AgeOfInitiation.7  2:62981798:C:T rs4671448  2   62754663 T                \n",
       "AgeOfInitiation.11 2:63022050:C:T rs7591708  2   62794915 C                \n",
       "AgeOfInitiation.13 2:63059927:A:G rs12713469 2   62832792 A                \n",
       "AgeOfInitiation.14 2:63087778:C:T rs13410889 2   62860643 C                \n",
       "AgeOfInitiation.18 2:63149265:A:G rs2710641  2   62922130 A                \n",
       "                   effect_allele MAF    gwasP    r2       IndSigSNP ⋯\n",
       "AgeOfInitiation.4  T             0.3360 7.59e-07 0.921475 rs4671448 ⋯\n",
       "AgeOfInitiation.7  C             0.3539 4.06e-08 1.000000 rs4671448 ⋯\n",
       "AgeOfInitiation.11 T             0.3260 2.72e-07 0.880603 rs4671448 ⋯\n",
       "AgeOfInitiation.13 G             0.3519 2.07e-07 0.911977 rs4671448 ⋯\n",
       "AgeOfInitiation.14 T             0.3459 1.58e-07 0.894309 rs4671448 ⋯\n",
       "AgeOfInitiation.18 G             0.3270 5.51e-07 0.833091 rs4671448 ⋯\n",
       "                   Consortium.author PMID Year N_Causal_blocks N_Variants\n",
       "AgeOfInitiation.4  NA                NA   NA   NA              NA        \n",
       "AgeOfInitiation.7  NA                NA   NA   NA              NA        \n",
       "AgeOfInitiation.11 NA                NA   NA   NA              NA        \n",
       "AgeOfInitiation.13 NA                NA   NA   NA              NA        \n",
       "AgeOfInitiation.14 NA                NA   NA   NA              NA        \n",
       "AgeOfInitiation.18 NA                NA   NA   NA              NA        \n",
       "                   N_Pval..5e.8 Documentation Notes avgPP isCausal\n",
       "AgeOfInitiation.4  NA           NA            NA    NA    FALSE   \n",
       "AgeOfInitiation.7  NA           NA            NA    NA    FALSE   \n",
       "AgeOfInitiation.11 NA           NA            NA    NA    FALSE   \n",
       "AgeOfInitiation.13 NA           NA            NA    NA    FALSE   \n",
       "AgeOfInitiation.14 NA           NA            NA    NA    FALSE   \n",
       "AgeOfInitiation.18 NA           NA            NA    NA    FALSE   "
      ]
     },
     "metadata": {},
     "output_type": "display_data"
    }
   ],
   "source": [
    "head(snpDat)"
   ]
  },
  {
   "cell_type": "markdown",
   "metadata": {},
   "source": [
    "## Number of SNPs that pass GWAS significance"
   ]
  },
  {
   "cell_type": "code",
   "execution_count": 8,
   "metadata": {},
   "outputs": [
    {
     "data": {
      "text/plain": [
       "\n",
       "  AgeOfInitiation          Cannabis  CigarettesPerDay     DrinksPerWeek \n",
       "               15                 6               216               188 \n",
       "    RiskyBehavior  SmokingCessation SmokingInitiation \n",
       "              277                40               299 "
      ]
     },
     "metadata": {},
     "output_type": "display_data"
    }
   ],
   "source": [
    "pBonf = 5e-8\n",
    "\n",
    "signifDat = snpDat %>% filter(gwasP < pBonf, rsID == IndSigSNP)\n",
    "table(signifDat$phenotype)"
   ]
  },
  {
   "cell_type": "markdown",
   "metadata": {},
   "source": [
    "## Number of Genome-wide significant loci"
   ]
  },
  {
   "cell_type": "code",
   "execution_count": 14,
   "metadata": {},
   "outputs": [
    {
     "data": {
      "text/html": [
       "<style>\n",
       ".list-inline {list-style: none; margin:0; padding: 0}\n",
       ".list-inline>li {display: inline-block}\n",
       ".list-inline>li:not(:last-child)::after {content: \"\\00b7\"; padding: 0 .5ex}\n",
       "</style>\n",
       "<ol class=list-inline><li>215</li><li>18</li></ol>\n"
      ],
      "text/latex": [
       "\\begin{enumerate*}\n",
       "\\item 215\n",
       "\\item 18\n",
       "\\end{enumerate*}\n"
      ],
      "text/markdown": [
       "1. 215\n",
       "2. 18\n",
       "\n",
       "\n"
      ],
      "text/plain": [
       "[1] 215  18"
      ]
     },
     "metadata": {},
     "output_type": "display_data"
    }
   ],
   "source": [
    "dim(lociDat)"
   ]
  },
  {
   "cell_type": "markdown",
   "metadata": {},
   "source": [
    "## Number of SNPs after LD expansion"
   ]
  },
  {
   "cell_type": "code",
   "execution_count": 18,
   "metadata": {},
   "outputs": [
    {
     "data": {
      "text/html": [
       "14790"
      ],
      "text/latex": [
       "14790"
      ],
      "text/markdown": [
       "14790"
      ],
      "text/plain": [
       "[1] 14790"
      ]
     },
     "metadata": {},
     "output_type": "display_data"
    }
   ],
   "source": [
    "length(unique(snpDat$rsID))"
   ]
  },
  {
   "cell_type": "markdown",
   "metadata": {},
   "source": [
    "## Number of SNPs predicted Causal by CAUSAL Db"
   ]
  },
  {
   "cell_type": "code",
   "execution_count": 19,
   "metadata": {},
   "outputs": [
    {
     "data": {
      "text/html": [
       "4509"
      ],
      "text/latex": [
       "4509"
      ],
      "text/markdown": [
       "4509"
      ],
      "text/plain": [
       "[1] 4509"
      ]
     },
     "metadata": {},
     "output_type": "display_data"
    }
   ],
   "source": [
    "length(unique(snpDat$rsID[snpDat$isCausal]))"
   ]
  },
  {
   "cell_type": "markdown",
   "metadata": {},
   "source": [
    "## Number of SNPs overlapping Fullard NeuN+ peaks"
   ]
  },
  {
   "cell_type": "code",
   "execution_count": 20,
   "metadata": {},
   "outputs": [
    {
     "data": {
      "text/html": [
       "<style>\n",
       ".list-inline {list-style: none; margin:0; padding: 0}\n",
       ".list-inline>li {display: inline-block}\n",
       ".list-inline>li:not(:last-child)::after {content: \"\\00b7\"; padding: 0 .5ex}\n",
       "</style>\n",
       "<ol class=list-inline><li>'colNames'</li><li>'credible_set'</li><li>'credible_set_unique'</li><li>'fumaSnps'</li><li>'gwas'</li><li>'lociDat'</li><li>'pBonf'</li><li>'signifDat'</li><li>'snpDat'</li><li>'snpList'</li><li>'snpRSE'</li><li>'ss'</li></ol>\n"
      ],
      "text/latex": [
       "\\begin{enumerate*}\n",
       "\\item 'colNames'\n",
       "\\item 'credible\\_set'\n",
       "\\item 'credible\\_set\\_unique'\n",
       "\\item 'fumaSnps'\n",
       "\\item 'gwas'\n",
       "\\item 'lociDat'\n",
       "\\item 'pBonf'\n",
       "\\item 'signifDat'\n",
       "\\item 'snpDat'\n",
       "\\item 'snpList'\n",
       "\\item 'snpRSE'\n",
       "\\item 'ss'\n",
       "\\end{enumerate*}\n"
      ],
      "text/markdown": [
       "1. 'colNames'\n",
       "2. 'credible_set'\n",
       "3. 'credible_set_unique'\n",
       "4. 'fumaSnps'\n",
       "5. 'gwas'\n",
       "6. 'lociDat'\n",
       "7. 'pBonf'\n",
       "8. 'signifDat'\n",
       "9. 'snpDat'\n",
       "10. 'snpList'\n",
       "11. 'snpRSE'\n",
       "12. 'ss'\n",
       "\n",
       "\n"
      ],
      "text/plain": [
       " [1] \"colNames\"            \"credible_set\"        \"credible_set_unique\"\n",
       " [4] \"fumaSnps\"            \"gwas\"                \"lociDat\"            \n",
       " [7] \"pBonf\"               \"signifDat\"           \"snpDat\"             \n",
       "[10] \"snpList\"             \"snpRSE\"              \"ss\"                 "
      ]
     },
     "metadata": {},
     "output_type": "display_data"
    }
   ],
   "source": [
    " snpDat$anyOverlap = rowSums(assays(snpRSE)[[1]])"
   ]
  },
  {
   "cell_type": "code",
   "execution_count": null,
   "metadata": {},
   "outputs": [],
   "source": []
  }
 ],
 "metadata": {
  "kernelspec": {
   "display_name": "R",
   "language": "R",
   "name": "ir"
  },
  "language_info": {
   "codemirror_mode": "r",
   "file_extension": ".r",
   "mimetype": "text/x-r-source",
   "name": "R",
   "pygments_lexer": "r",
   "version": "3.6.3"
  }
 },
 "nbformat": 4,
 "nbformat_minor": 2
}
