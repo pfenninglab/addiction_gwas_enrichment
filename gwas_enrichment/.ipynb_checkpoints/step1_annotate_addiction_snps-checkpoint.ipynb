{
 "cells": [
  {
   "cell_type": "code",
   "execution_count": null,
   "metadata": {},
   "outputs": [],
   "source": [
    "options(stringsAsFactors = F)\n",
    "ss <- function(x, pattern, slot = 1, ...) { sapply(strsplit(x = x, split = pattern, ...), '[', slot) }"
   ]
  },
  {
   "cell_type": "code",
   "execution_count": null,
   "metadata": {},
   "outputs": [],
   "source": [
    "# read in GWAS snps annotated with FUMA\n",
    "gwas  = c('AgeOfInitiation', 'CigarettesPerDay', 'Cannabis', 'DrinksPerWeek', \n",
    "          'RiskyBehavior', 'SmokingCessation', 'SmokingInitiation')\n",
    "\n",
    "fumaSnps = list.files(path = 'fuma_annotations', pattern = 'snps.txt', recursive = T, full.names = T)\n",
    "names(fumaSnps) = gwas[sapply(gwas, grep, fumaSnps)]"
   ]
  },
  {
   "cell_type": "code",
   "execution_count": null,
   "metadata": {},
   "outputs": [],
   "source": [
    "# keep snps with R^2 more than 0.8\n",
    "snpList = lapply(fumaSnps, read.delim)\n",
    "colNames = Reduce('intersect',lapply(snpList, names))\n",
    "snpList = lapply(snpList, function(x) x = x[x$r2 >= 0.8,colNames] )\n",
    "snpDat = do.call('rbind', snpList)\n",
    "snpDat$phenotype = ss(rownames(snpDat), '\\\\.')"
   ]
  },
  {
   "cell_type": "code",
   "execution_count": null,
   "metadata": {},
   "outputs": [],
   "source": [
    "# change snp positions to hg38 coordinates\n",
    "library(SNPlocs.Hsapiens.dbSNP151.GRCh38, quietly = T)\n",
    "snps <- SNPlocs.Hsapiens.dbSNP151.GRCh38\n",
    "my_snps = snpsById(snps, unique(snpDat$rsID))\n",
    "length(my_snps)\n",
    "\n",
    "ind = sapply(paste0(snpDat$rsID,'$'), grep, mcols(my_snps)$RefSNP_id)\n",
    "snpDat$pos = pos(my_snps)[ind]"
   ]
  }
 ],
 "metadata": {
  "kernelspec": {
   "display_name": "R",
   "language": "R",
   "name": "ir"
  },
  "language_info": {
   "codemirror_mode": "r",
   "file_extension": ".r",
   "mimetype": "text/x-r-source",
   "name": "R",
   "pygments_lexer": "r",
   "version": "3.6.1"
  }
 },
 "nbformat": 4,
 "nbformat_minor": 2
}
